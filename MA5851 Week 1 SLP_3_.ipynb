{
 "cells": [
  {
   "cell_type": "markdown",
   "metadata": {},
   "source": [
    "## Sentiment Analysis of Political Tweets\n",
    "\n",
    "As discussed in class, sentiment analysis tries to measure the positive or negative sentiment expressed in a message.  It is commonly used to track the mood of the nation on all kinds of topics through the analysis of Twitter data.  \n",
    "\n",
    "This is a simple example of using the NLTK sentiment analysis package to look at sentiment of tweets about the NSW Liberal and Labor parties.  Unfortunately I've not been able to collect very much data from twitter because of their rate limits, so we only have around 250 tweets in each case.  However, we can use this as a sample to test the basic methodology.\n",
    "\n",
    "First we'll read in the tweets from a CSV file:"
   ]
  },
  {
   "cell_type": "code",
   "execution_count": 36,
   "metadata": {},
   "outputs": [
    {
     "data": {
      "text/plain": "                          created  \\\n0  Thu Oct 12 10:28:13 +0000 2017   \n1  Thu Oct 12 07:39:23 +0000 2017   \n2  Thu Oct 12 07:31:30 +0000 2017   \n3  Thu Oct 12 06:43:38 +0000 2017   \n4  Thu Oct 12 05:38:03 +0000 2017   \n\n                                                text  \n0  @WesFangNats @keredm @sffAustralia I'd hazard ...  \n1  RT @venusboy1977: @AustralianLabor @RoseBrenna...  \n2  @AustralianLabor @RoseBrennan12 @BernardKeane ...  \n3  The latest The Wollongong Happenings Daily! ht...  \n4  @sffAustralia @NSWNationals @LiberalNSW Two of...  ",
      "text/html": "<div>\n<style scoped>\n    .dataframe tbody tr th:only-of-type {\n        vertical-align: middle;\n    }\n\n    .dataframe tbody tr th {\n        vertical-align: top;\n    }\n\n    .dataframe thead th {\n        text-align: right;\n    }\n</style>\n<table border=\"1\" class=\"dataframe\">\n  <thead>\n    <tr style=\"text-align: right;\">\n      <th></th>\n      <th>created</th>\n      <th>text</th>\n    </tr>\n  </thead>\n  <tbody>\n    <tr>\n      <th>0</th>\n      <td>Thu Oct 12 10:28:13 +0000 2017</td>\n      <td>@WesFangNats @keredm @sffAustralia I'd hazard ...</td>\n    </tr>\n    <tr>\n      <th>1</th>\n      <td>Thu Oct 12 07:39:23 +0000 2017</td>\n      <td>RT @venusboy1977: @AustralianLabor @RoseBrenna...</td>\n    </tr>\n    <tr>\n      <th>2</th>\n      <td>Thu Oct 12 07:31:30 +0000 2017</td>\n      <td>@AustralianLabor @RoseBrennan12 @BernardKeane ...</td>\n    </tr>\n    <tr>\n      <th>3</th>\n      <td>Thu Oct 12 06:43:38 +0000 2017</td>\n      <td>The latest The Wollongong Happenings Daily! ht...</td>\n    </tr>\n    <tr>\n      <th>4</th>\n      <td>Thu Oct 12 05:38:03 +0000 2017</td>\n      <td>@sffAustralia @NSWNationals @LiberalNSW Two of...</td>\n    </tr>\n  </tbody>\n</table>\n</div>"
     },
     "execution_count": 36,
     "metadata": {},
     "output_type": "execute_result"
    }
   ],
   "source": [
    "import pandas as pd\n",
    "import nltk\n",
    "from nltk.sentiment.vader import SentimentIntensityAnalyzer\n",
    "%matplotlib inline \n",
    "\n",
    "liberal = pd.read_csv('nswliberal.csv')\n",
    "labor = pd.read_csv('nswlabor.csv')\n",
    "liberal.head()"
   ]
  },
  {
   "cell_type": "markdown",
   "metadata": {},
   "source": [
    "We can use the NLTK python package to do sentiment analysis.  It contains all of the tools you need to build your own analyisis engine based on training data you have labelled yourself, but it also has a pre-built sentiment analysis engine called [VADER](http://t-redactyl.io/blog/2017/04/using-vader-to-handle-sentiment-analysis-with-social-media-text.html).  VADER uses word lists of positive and negative words and returns a set of ratings that count the proportion of positive and negative words in a text.  A final metric *compound* is a combination score that is +1 for a very positive text and -1 for a negative one.  \n",
    "\n",
    "We first need to download the lexicon (word list) for NLTK to work, we then make a sentiment analyser and apply it to every row of the data with the apply method.  "
   ]
  },
  {
   "cell_type": "code",
   "execution_count": 37,
   "metadata": {},
   "outputs": [
    {
     "name": "stderr",
     "output_type": "stream",
     "text": [
      "[nltk_data] Downloading package vader_lexicon to\n",
      "[nltk_data]     /Users/paulkirkwood/nltk_data...\n",
      "[nltk_data]   Package vader_lexicon is already up-to-date!\n"
     ]
    }
   ],
   "source": [
    "nltk.download('vader_lexicon')\n",
    "sid = SentimentIntensityAnalyzer()\n",
    "\n",
    "liberal_sent = liberal.apply(lambda r: sid.polarity_scores(r.text), axis=1)\n",
    "labor_sent = labor.apply(lambda r: sid.polarity_scores(r.text), axis=1)"
   ]
  },
  {
   "cell_type": "code",
   "execution_count": 38,
   "metadata": {},
   "outputs": [
    {
     "data": {
      "text/plain": "                          created  \\\n0  Thu Oct 12 20:27:43 +0000 2017   \n1  Thu Oct 12 20:10:27 +0000 2017   \n2  Thu Oct 12 10:01:23 +0000 2017   \n3  Thu Oct 12 08:58:52 +0000 2017   \n4  Thu Oct 12 07:52:19 +0000 2017   \n\n                                                text    neg    neu    pos  \\\n0  #GladysBerejiklian Donations For Access Rife i...  0.000  1.000  0.000   \n1  I don’t think @NSWLabor got the message on gun...  0.124  0.876  0.000   \n2  @stukhan @NSWLabor But it makes for one hell o...  0.543  0.457  0.000   \n3  .@NSWLabor supports keeping Springvale mine op...  0.168  0.745  0.087   \n4  RT @NSWLabor: What do you think ? https://t.co...  0.000  1.000  0.000   \n\n   compound  \n0    0.0000  \n1   -0.3400  \n2   -0.9136  \n3   -0.3898  \n4    0.0000  ",
      "text/html": "<div>\n<style scoped>\n    .dataframe tbody tr th:only-of-type {\n        vertical-align: middle;\n    }\n\n    .dataframe tbody tr th {\n        vertical-align: top;\n    }\n\n    .dataframe thead th {\n        text-align: right;\n    }\n</style>\n<table border=\"1\" class=\"dataframe\">\n  <thead>\n    <tr style=\"text-align: right;\">\n      <th></th>\n      <th>created</th>\n      <th>text</th>\n      <th>neg</th>\n      <th>neu</th>\n      <th>pos</th>\n      <th>compound</th>\n    </tr>\n  </thead>\n  <tbody>\n    <tr>\n      <th>0</th>\n      <td>Thu Oct 12 20:27:43 +0000 2017</td>\n      <td>#GladysBerejiklian Donations For Access Rife i...</td>\n      <td>0.000</td>\n      <td>1.000</td>\n      <td>0.000</td>\n      <td>0.0000</td>\n    </tr>\n    <tr>\n      <th>1</th>\n      <td>Thu Oct 12 20:10:27 +0000 2017</td>\n      <td>I don’t think @NSWLabor got the message on gun...</td>\n      <td>0.124</td>\n      <td>0.876</td>\n      <td>0.000</td>\n      <td>-0.3400</td>\n    </tr>\n    <tr>\n      <th>2</th>\n      <td>Thu Oct 12 10:01:23 +0000 2017</td>\n      <td>@stukhan @NSWLabor But it makes for one hell o...</td>\n      <td>0.543</td>\n      <td>0.457</td>\n      <td>0.000</td>\n      <td>-0.9136</td>\n    </tr>\n    <tr>\n      <th>3</th>\n      <td>Thu Oct 12 08:58:52 +0000 2017</td>\n      <td>.@NSWLabor supports keeping Springvale mine op...</td>\n      <td>0.168</td>\n      <td>0.745</td>\n      <td>0.087</td>\n      <td>-0.3898</td>\n    </tr>\n    <tr>\n      <th>4</th>\n      <td>Thu Oct 12 07:52:19 +0000 2017</td>\n      <td>RT @NSWLabor: What do you think ? https://t.co...</td>\n      <td>0.000</td>\n      <td>1.000</td>\n      <td>0.000</td>\n      <td>0.0000</td>\n    </tr>\n  </tbody>\n</table>\n</div>"
     },
     "execution_count": 38,
     "metadata": {},
     "output_type": "execute_result"
    }
   ],
   "source": [
    "# turn the result into a data frame and add as columns to the original data\n",
    "df = pd.DataFrame(list(liberal_sent))\n",
    "liberal_s = liberal.join(df)\n",
    "\n",
    "df = pd.DataFrame(list(labor_sent))\n",
    "labor_s = labor.join(df)\n",
    "\n",
    "labor_s.head()"
   ]
  },
  {
   "cell_type": "markdown",
   "metadata": {},
   "source": [
    "So, now you have sentiment data for the NSW Liberal and Labor parties.  Your task now is to generate some useful intelligence from this data.   You might ask:\n",
    "\n",
    "- what is the spread of sentiment for each party\n",
    "- who is ahead on the sentiment scale - how do they compare?\n",
    "- what are the most positive and negative issues in each case?\n",
    "\n",
    "Your checkpoint this week is to show us a useful plot or summary statistic based on this data along with your interpretation."
   ]
  },
  {
   "cell_type": "code",
   "execution_count": 39,
   "metadata": {
    "collapsed": true
   },
   "outputs": [
    {
     "data": {
      "text/plain": "     neg    neu    pos  compound\n0  0.000  1.000  0.000    0.0000\n1  0.124  0.876  0.000   -0.3400\n2  0.543  0.457  0.000   -0.9136\n3  0.168  0.745  0.087   -0.3898\n4  0.000  1.000  0.000    0.0000",
      "text/html": "<div>\n<style scoped>\n    .dataframe tbody tr th:only-of-type {\n        vertical-align: middle;\n    }\n\n    .dataframe tbody tr th {\n        vertical-align: top;\n    }\n\n    .dataframe thead th {\n        text-align: right;\n    }\n</style>\n<table border=\"1\" class=\"dataframe\">\n  <thead>\n    <tr style=\"text-align: right;\">\n      <th></th>\n      <th>neg</th>\n      <th>neu</th>\n      <th>pos</th>\n      <th>compound</th>\n    </tr>\n  </thead>\n  <tbody>\n    <tr>\n      <th>0</th>\n      <td>0.000</td>\n      <td>1.000</td>\n      <td>0.000</td>\n      <td>0.0000</td>\n    </tr>\n    <tr>\n      <th>1</th>\n      <td>0.124</td>\n      <td>0.876</td>\n      <td>0.000</td>\n      <td>-0.3400</td>\n    </tr>\n    <tr>\n      <th>2</th>\n      <td>0.543</td>\n      <td>0.457</td>\n      <td>0.000</td>\n      <td>-0.9136</td>\n    </tr>\n    <tr>\n      <th>3</th>\n      <td>0.168</td>\n      <td>0.745</td>\n      <td>0.087</td>\n      <td>-0.3898</td>\n    </tr>\n    <tr>\n      <th>4</th>\n      <td>0.000</td>\n      <td>1.000</td>\n      <td>0.000</td>\n      <td>0.0000</td>\n    </tr>\n  </tbody>\n</table>\n</div>"
     },
     "execution_count": 39,
     "metadata": {},
     "output_type": "execute_result"
    }
   ],
   "source": [
    "#subset data from text\n",
    "cols= ['neg','neu','pos','compound']\n",
    "subset_lab= labor_s[cols]\n",
    "subset_lib= liberal_s[cols]\n",
    "subset_lab.head()\n"
   ]
  },
  {
   "cell_type": "code",
   "execution_count": 40,
   "outputs": [
    {
     "data": {
      "text/plain": "            Labour   Liberal\nneg       0.091156  0.075721\nneu       0.817031  0.844335\npos       0.091823  0.079929\ncompound  0.018172  0.007268",
      "text/html": "<div>\n<style scoped>\n    .dataframe tbody tr th:only-of-type {\n        vertical-align: middle;\n    }\n\n    .dataframe tbody tr th {\n        vertical-align: top;\n    }\n\n    .dataframe thead th {\n        text-align: right;\n    }\n</style>\n<table border=\"1\" class=\"dataframe\">\n  <thead>\n    <tr style=\"text-align: right;\">\n      <th></th>\n      <th>Labour</th>\n      <th>Liberal</th>\n    </tr>\n  </thead>\n  <tbody>\n    <tr>\n      <th>neg</th>\n      <td>0.091156</td>\n      <td>0.075721</td>\n    </tr>\n    <tr>\n      <th>neu</th>\n      <td>0.817031</td>\n      <td>0.844335</td>\n    </tr>\n    <tr>\n      <th>pos</th>\n      <td>0.091823</td>\n      <td>0.079929</td>\n    </tr>\n    <tr>\n      <th>compound</th>\n      <td>0.018172</td>\n      <td>0.007268</td>\n    </tr>\n  </tbody>\n</table>\n</div>"
     },
     "execution_count": 40,
     "metadata": {},
     "output_type": "execute_result"
    }
   ],
   "source": [
    "#Explore means of data\n",
    "import pandas as pd\n",
    "lab_mean= subset_lab.mean()\n",
    "lib_mean= subset_lib.mean()\n",
    "df1= pd.Series(lab_mean, name=\"Labour\")\n",
    "df2= pd.Series(lib_mean, name='Liberal')\n",
    "combined= pd.concat([df1, df2], axis=1)\n",
    "combined.head()"
   ],
   "metadata": {
    "collapsed": false,
    "pycharm": {
     "name": "#%%\n"
    }
   }
  },
  {
   "cell_type": "markdown",
   "source": [
    "an analysis of the mean of sentiment analysis confirms that the overall sentiments, both positive and negative, for Labor are higher than for liberal.  This suggests the spread of sentiment for Labour is higher, with stronger views, boith positve and negative being expressed through twitter."
   ],
   "metadata": {
    "collapsed": false
   }
  },
  {
   "cell_type": "code",
   "execution_count": 41,
   "outputs": [
    {
     "data": {
      "text/plain": "<Figure size 432x288 with 1 Axes>",
      "image/png": "[encoded data removed]"
     },
     "metadata": {
      "needs_background": "dark"
     },
     "output_type": "display_data"
    }
   ],
   "source": [
    "import matplotlib.pyplot as plt\n",
    "fig, ax= plt.subplots()\n",
    "plt.boxplot(combined)\n",
    "plt.xticks([1,2],[\"Labour\", \"liberal\"])\n",
    "plt.show()\n",
    "\n"
   ],
   "metadata": {
    "collapsed": false,
    "pycharm": {
     "name": "#%%\n"
    }
   }
  },
  {
   "cell_type": "code",
   "execution_count": 46,
   "outputs": [
    {
     "name": "stdout",
     "output_type": "stream",
     "text": [
      "created                       Tue Oct 10 09:23:08 +0000 2017\n",
      "text       @capital_hunter @LiberalNSW @sffAustralia @NSW...\n",
      "Name: 30, dtype: object\n",
      "@capital_hunter @LiberalNSW @sffAustralia @NSWNationals guns. guns. guns. death. killing. yeah! go. guns. death. #killthemall\n"
     ]
    }
   ],
   "source": [
    "#find the maximum negative issue for both\n",
    "labor_s.iloc[labor_s.neg.argmax(), 0:2]\n",
    "print(liberal_s.iloc[liberal_s.neg.argmax(), 0:2])\n",
    "print(liberal_s.loc[30].text)\n",
    "\n",
    "\n"
   ],
   "metadata": {
    "collapsed": false,
    "pycharm": {
     "name": "#%%\n"
    }
   }
  }
 ],
 "metadata": {
  "kernelspec": {
   "display_name": "Python 3",
   "language": "python",
   "name": "python3"
  },
  "language_info": {
   "codemirror_mode": {
    "name": "ipython",
    "version": 3
   },
   "file_extension": ".py",
   "mimetype": "text/x-python",
   "name": "python",
   "nbconvert_exporter": "python",
   "pygments_lexer": "ipython3",
   "version": "3.6.1"
  }
 },
 "nbformat": 4,
 "nbformat_minor": 2
}