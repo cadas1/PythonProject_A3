{
 "cells": [
  {
   "cell_type": "code",
   "execution_count": 21,
   "metadata": {
    "collapsed": true
   },
   "outputs": [
    {
     "name": "stdout",
     "output_type": "stream",
     "text": [
      "      School_ID State  Year     Subject           ISBN\n",
      "0             8   VIC     0     ENGLISH  9781741250879\n",
      "1             9   NSW     0     ENGLISH  9780648237327\n",
      "2            15   NSW     0     ENGLISH  9781742990682\n",
      "3            15   NSW     0     ENGLISH  9781741351750\n",
      "4            15   NSW     0     ENGLISH  9781742152196\n",
      "...         ...   ...   ...         ...            ...\n",
      "1799          2   VIC    12  ACCOUNTING  9781108688772\n",
      "1800          2   VIC    12  ACCOUNTING  9781108469913\n",
      "1801         19   VIC    12  ACCOUNTING  9781108688772\n",
      "1802          1   NSW    12   LANGUAGES  9781568364575\n",
      "1803          6   VIC    12     SCIENCE  9781876703431\n",
      "\n",
      "[1804 rows x 5 columns]\n"
     ]
    },
    {
     "data": {
      "text/plain": "<bound method NDFrame.head of 0    9781741250879\n1    9780648237327\n2    9781742990682\n3    9781741351750\n4    9781742152196\n5    9780310709626\n6    9780648237327\n7    9781876424022\n8    9781740202954\n9    9781925487350\nName: ISBN, dtype: int64>"
     },
     "execution_count": 21,
     "metadata": {},
     "output_type": "execute_result"
    }
   ],
   "source": [
    "#setup Libraries\n",
    "import pandas as pd\n",
    "data = pd.read_excel(r'MA5851_SP86_2021_A1_Data.xlsx')\n",
    "data.drop_duplicates() # check for duplicate rows\n",
    "#Add unique identifier\n",
    "lab_df = pd.DataFrame(data)\n",
    "print(lab_df)\n",
    "isbn_list = lab_df['ISBN']\n",
    "len(isbn_list)\n",
    "test_isbn = isbn_list[:10]\n",
    "test_isbn.head"
   ]
  },
  {
   "cell_type": "code",
   "execution_count": 8,
   "outputs": [],
   "source": [
    "# module for JSON data\n",
    "import json\n",
    "import requests\n",
    "# module for URLs\n",
    "from urllib.request import urlopen\n",
    "from pandas import json_normalize\n"
   ],
   "metadata": {
    "collapsed": false,
    "pycharm": {
     "name": "#%%\n"
    }
   }
  },
  {
   "cell_type": "code",
   "execution_count": 25,
   "outputs": [
    {
     "name": "stdout",
     "output_type": "stream",
     "text": [
      "Fetching detail for ISBN:9781741250879\n",
      "{'kind': 'books#volumes', 'totalItems': 606, 'items': [{'kind': 'books#volume', 'id': 'pQnVfVDl9ZEC', 'etag': 'i9Qhdu7UL8I', 'selfLink': 'https://www.googleapis.com/books/v1/volumes/pQnVfVDl9ZEC', 'volumeInfo': {'title': 'Victorian Targeting Handwriting', 'authors': ['Tricia Dearborn', 'Jo Ryan', 'Stephen Michael King'], 'publisher': 'Pascal Press', 'publishedDate': '2004', 'description': \"Targeting Handwriting Victoria Year 6 Student Book focuses on develop ing students' own styles, while emphasising fluency and legibility. The book includes: 'Mature' real-world applications, e. g. developing a signature and tips for note taking teaching pag es with two sets of copying lines, for reinforcement and extra practice a section on calligraphy The Targeting Handwritin g Years 3-6 Student Books have been designed to make learning cursive ha ndwriting as easy as possible for students. New skills are introduced se quentially, so that students build on skills one by one and aren't calle d on to use skills that haven't been introduced yet. Wherever pos sible, students copy words underneath models, so that left-handers aren' t disadvantaged, and practice of numerals and punctuation is integrated into the writing activities. The books also encourage and support studen t self-assessment.\", 'industryIdentifiers': [{'type': 'ISBN_10', 'identifier': '1741250935'}, {'type': 'ISBN_13', 'identifier': '9781741250930'}], 'readingModes': {'text': False, 'image': True}, 'pageCount': 64, 'printType': 'BOOK', 'categories': ['King, Stephen Michael'], 'maturityRating': 'NOT_MATURE', 'allowAnonLogging': False, 'contentVersion': '2.4.3.0.preview.1', 'panelizationSummary': {'containsEpubBubbles': False, 'containsImageBubbles': False}, 'imageLinks': {'smallThumbnail': 'http://books.google.com/books/content?id=pQnVfVDl9ZEC&printsec=frontcover&img=1&zoom=5&edge=curl&source=gbs_api', 'thumbnail': 'http://books.google.com/books/content?id=pQnVfVDl9ZEC&printsec=frontcover&img=1&zoom=1&edge=curl&source=gbs_api'}, 'language': 'en', 'previewLink': 'http://books.google.com.au/books?id=pQnVfVDl9ZEC&printsec=frontcover&dq=isbn%3D9781741250879&hl=&cd=1&source=gbs_api', 'infoLink': 'http://books.google.com.au/books?id=pQnVfVDl9ZEC&dq=isbn%3D9781741250879&hl=&source=gbs_api', 'canonicalVolumeLink': 'https://books.google.com/books/about/Victorian_Targeting_Handwriting.html?hl=&id=pQnVfVDl9ZEC'}, 'saleInfo': {'country': 'AU', 'saleability': 'NOT_FOR_SALE', 'isEbook': False}, 'accessInfo': {'country': 'AU', 'viewability': 'PARTIAL', 'embeddable': True, 'publicDomain': False, 'textToSpeechPermission': 'ALLOWED', 'epub': {'isAvailable': False}, 'pdf': {'isAvailable': False}, 'webReaderLink': 'http://play.google.com/books/reader?id=pQnVfVDl9ZEC&hl=&printsec=frontcover&source=gbs_api', 'accessViewStatus': 'SAMPLE', 'quoteSharingAllowed': False}, 'searchInfo': {'textSnippet': 'The books also encourage and support studen t self-assessment.'}}]}\n",
      "dict_keys(['title', 'authors', 'publisher', 'publishedDate', 'description', 'industryIdentifiers', 'readingModes', 'pageCount', 'printType', 'categories', 'maturityRating', 'allowAnonLogging', 'contentVersion', 'panelizationSummary', 'imageLinks', 'language', 'previewLink', 'infoLink', 'canonicalVolumeLink'])\n",
      "Fetching detail for ISBN:9780648237327\n",
      "{'kind': 'books#volumes', 'totalItems': 888, 'items': [{'kind': 'books#volume', 'id': 'K3i6wwEACAAJ', 'etag': 'Sofa9INsSss', 'selfLink': 'https://www.googleapis.com/books/v1/volumes/K3i6wwEACAAJ', 'volumeInfo': {'title': 'Kluwell My Home Reading Yellow Level', 'authors': ['Stan Kluzek', 'Andrew Coldwell'], 'publishedDate': '2019-07', 'description': 'Suitable for lower primary students.', 'industryIdentifiers': [{'type': 'ISBN_10', 'identifier': '064823732X'}, {'type': 'ISBN_13', 'identifier': '9780648237327'}], 'readingModes': {'text': False, 'image': False}, 'printType': 'BOOK', 'maturityRating': 'NOT_MATURE', 'allowAnonLogging': False, 'contentVersion': 'preview-1.0.0', 'panelizationSummary': {'containsEpubBubbles': False, 'containsImageBubbles': False}, 'language': 'en', 'previewLink': 'http://books.google.com.au/books?id=K3i6wwEACAAJ&dq=isbn%3D9780648237327&hl=&cd=1&source=gbs_api', 'infoLink': 'http://books.google.com.au/books?id=K3i6wwEACAAJ&dq=isbn%3D9780648237327&hl=&source=gbs_api', 'canonicalVolumeLink': 'https://books.google.com/books/about/Kluwell_My_Home_Reading_Yellow_Level.html?hl=&id=K3i6wwEACAAJ'}, 'saleInfo': {'country': 'AU', 'saleability': 'NOT_FOR_SALE', 'isEbook': False}, 'accessInfo': {'country': 'AU', 'viewability': 'NO_PAGES', 'embeddable': False, 'publicDomain': False, 'textToSpeechPermission': 'ALLOWED', 'epub': {'isAvailable': False}, 'pdf': {'isAvailable': False}, 'webReaderLink': 'http://play.google.com/books/reader?id=K3i6wwEACAAJ&hl=&printsec=frontcover&source=gbs_api', 'accessViewStatus': 'NONE', 'quoteSharingAllowed': False}, 'searchInfo': {'textSnippet': 'Suitable for lower primary students.'}}]}\n",
      "dict_keys(['title', 'authors', 'publishedDate', 'description', 'industryIdentifiers', 'readingModes', 'printType', 'maturityRating', 'allowAnonLogging', 'contentVersion', 'panelizationSummary', 'language', 'previewLink', 'infoLink', 'canonicalVolumeLink'])\n",
      "Fetching detail for ISBN:9781742990682\n",
      "{'kind': 'books#volumes', 'totalItems': 1884, 'items': [{'kind': 'books#volume', 'id': 'i_0jAAAACAAJ', 'etag': 'H94vSBOuGkM', 'selfLink': 'https://www.googleapis.com/books/v1/volumes/i_0jAAAACAAJ', 'volumeInfo': {'title': 'Wilfrid Gordon McDonald Partridge', 'authors': ['Mem Fox', 'Julie Vivas'], 'publisher': 'Picture Puffin', 'publishedDate': '1987', 'description': 'The elderly Miss Nancy is helped by Wilfrid to replace her lost memories with new ones.', 'industryIdentifiers': [{'type': 'ISBN_10', 'identifier': '0140505865'}, {'type': 'ISBN_13', 'identifier': '9780140505863'}], 'readingModes': {'text': False, 'image': False}, 'pageCount': 32, 'printType': 'BOOK', 'categories': ['Children and older people'], 'averageRating': 4.5, 'ratingsCount': 58, 'maturityRating': 'NOT_MATURE', 'allowAnonLogging': False, 'contentVersion': 'preview-1.0.0', 'panelizationSummary': {'containsEpubBubbles': False, 'containsImageBubbles': False}, 'imageLinks': {'smallThumbnail': 'http://books.google.com/books/content?id=i_0jAAAACAAJ&printsec=frontcover&img=1&zoom=5&source=gbs_api', 'thumbnail': 'http://books.google.com/books/content?id=i_0jAAAACAAJ&printsec=frontcover&img=1&zoom=1&source=gbs_api'}, 'language': 'en', 'previewLink': 'http://books.google.com.au/books?id=i_0jAAAACAAJ&dq=isbn%3D9781742990682&hl=&cd=1&source=gbs_api', 'infoLink': 'http://books.google.com.au/books?id=i_0jAAAACAAJ&dq=isbn%3D9781742990682&hl=&source=gbs_api', 'canonicalVolumeLink': 'https://books.google.com/books/about/Wilfrid_Gordon_McDonald_Partridge.html?hl=&id=i_0jAAAACAAJ'}, 'saleInfo': {'country': 'AU', 'saleability': 'NOT_FOR_SALE', 'isEbook': False}, 'accessInfo': {'country': 'AU', 'viewability': 'NO_PAGES', 'embeddable': False, 'publicDomain': False, 'textToSpeechPermission': 'ALLOWED', 'epub': {'isAvailable': False}, 'pdf': {'isAvailable': False}, 'webReaderLink': 'http://play.google.com/books/reader?id=i_0jAAAACAAJ&hl=&printsec=frontcover&source=gbs_api', 'accessViewStatus': 'NONE', 'quoteSharingAllowed': False}, 'searchInfo': {'textSnippet': 'The elderly Miss Nancy is helped by Wilfrid to replace her lost memories with new ones.'}}]}\n",
      "dict_keys(['title', 'authors', 'publisher', 'publishedDate', 'description', 'industryIdentifiers', 'readingModes', 'pageCount', 'printType', 'categories', 'averageRating', 'ratingsCount', 'maturityRating', 'allowAnonLogging', 'contentVersion', 'panelizationSummary', 'imageLinks', 'language', 'previewLink', 'infoLink', 'canonicalVolumeLink'])\n",
      "Fetching detail for ISBN:9781741351750\n",
      "{'kind': 'books#volumes', 'totalItems': 967, 'items': [{'kind': 'books#volume', 'id': 'CCWgMQEACAAJ', 'etag': '8MaJctcmK5k', 'selfLink': 'https://www.googleapis.com/books/v1/volumes/CCWgMQEACAAJ', 'volumeInfo': {'title': 'IMaths', 'authors': ['Mary Serenc', 'Chris Linthorne', 'Lena Ford'], 'publishedDate': '2011-01-01', 'description': '\" iMaths is an investigative-based numeracy program thath comprehensively addresses both the content and proficency strands of the Australian curriculum\". -- Back cover.', 'industryIdentifiers': [{'type': 'ISBN_10', 'identifier': '1741351871'}, {'type': 'ISBN_13', 'identifier': '9781741351873'}], 'readingModes': {'text': False, 'image': False}, 'pageCount': 72, 'printType': 'BOOK', 'categories': ['Mathematics'], 'maturityRating': 'NOT_MATURE', 'allowAnonLogging': False, 'contentVersion': 'preview-1.0.0', 'imageLinks': {'smallThumbnail': 'http://books.google.com/books/content?id=CCWgMQEACAAJ&printsec=frontcover&img=1&zoom=5&source=gbs_api', 'thumbnail': 'http://books.google.com/books/content?id=CCWgMQEACAAJ&printsec=frontcover&img=1&zoom=1&source=gbs_api'}, 'language': 'en', 'previewLink': 'http://books.google.com.au/books?id=CCWgMQEACAAJ&dq=isbn%3D9781741351750&hl=&cd=1&source=gbs_api', 'infoLink': 'http://books.google.com.au/books?id=CCWgMQEACAAJ&dq=isbn%3D9781741351750&hl=&source=gbs_api', 'canonicalVolumeLink': 'https://books.google.com/books/about/IMaths.html?hl=&id=CCWgMQEACAAJ'}, 'saleInfo': {'country': 'AU', 'saleability': 'NOT_FOR_SALE', 'isEbook': False}, 'accessInfo': {'country': 'AU', 'viewability': 'NO_PAGES', 'embeddable': False, 'publicDomain': False, 'textToSpeechPermission': 'ALLOWED', 'epub': {'isAvailable': False}, 'pdf': {'isAvailable': False}, 'webReaderLink': 'http://play.google.com/books/reader?id=CCWgMQEACAAJ&hl=&printsec=frontcover&source=gbs_api', 'accessViewStatus': 'NONE', 'quoteSharingAllowed': False}, 'searchInfo': {'textSnippet': '&quot; iMaths is an investigative-based numeracy program thath comprehensively addresses both the content and proficency strands of the Australian curriculum&quot;. -- Back cover.'}}]}\n",
      "dict_keys(['title', 'authors', 'publishedDate', 'description', 'industryIdentifiers', 'readingModes', 'pageCount', 'printType', 'categories', 'maturityRating', 'allowAnonLogging', 'contentVersion', 'imageLinks', 'language', 'previewLink', 'infoLink', 'canonicalVolumeLink'])\n",
      "Fetching detail for ISBN:9781742152196\n",
      "{'kind': 'books#volumes', 'totalItems': 859, 'items': [{'kind': 'books#volume', 'id': 'wQL5oAEACAAJ', 'etag': 'W6Sva1UmB5U', 'selfLink': 'https://www.googleapis.com/books/v1/volumes/wQL5oAEACAAJ', 'volumeInfo': {'title': 'Targeting Maths', 'authors': ['Gloria Harris', 'Katy Pike'], 'publishedDate': '2013', 'industryIdentifiers': [{'type': 'ISBN_10', 'identifier': '1742152252'}, {'type': 'ISBN_13', 'identifier': '9781742152257'}], 'readingModes': {'text': False, 'image': False}, 'pageCount': 200, 'printType': 'BOOK', 'categories': ['Mathematics'], 'maturityRating': 'NOT_MATURE', 'allowAnonLogging': False, 'contentVersion': 'preview-1.0.0', 'imageLinks': {'smallThumbnail': 'http://books.google.com/books/content?id=wQL5oAEACAAJ&printsec=frontcover&img=1&zoom=5&source=gbs_api', 'thumbnail': 'http://books.google.com/books/content?id=wQL5oAEACAAJ&printsec=frontcover&img=1&zoom=1&source=gbs_api'}, 'language': 'en', 'previewLink': 'http://books.google.com.au/books?id=wQL5oAEACAAJ&dq=isbn%3D9781742152196&hl=&cd=1&source=gbs_api', 'infoLink': 'http://books.google.com.au/books?id=wQL5oAEACAAJ&dq=isbn%3D9781742152196&hl=&source=gbs_api', 'canonicalVolumeLink': 'https://books.google.com/books/about/Targeting_Maths.html?hl=&id=wQL5oAEACAAJ'}, 'saleInfo': {'country': 'AU', 'saleability': 'NOT_FOR_SALE', 'isEbook': False}, 'accessInfo': {'country': 'AU', 'viewability': 'NO_PAGES', 'embeddable': False, 'publicDomain': False, 'textToSpeechPermission': 'ALLOWED', 'epub': {'isAvailable': False}, 'pdf': {'isAvailable': False}, 'webReaderLink': 'http://play.google.com/books/reader?id=wQL5oAEACAAJ&hl=&printsec=frontcover&source=gbs_api', 'accessViewStatus': 'NONE', 'quoteSharingAllowed': False}, 'searchInfo': {'textSnippet': 'Targe ting Maths App for iPad The Targeting Maths Year 6 Student Book i s fully cross-referenced to the Year 6 Targeting Maths App. Students wil l benefit from the combination of book-based and digital learning this p rogram provides.'}}]}\n",
      "dict_keys(['title', 'authors', 'publishedDate', 'industryIdentifiers', 'readingModes', 'pageCount', 'printType', 'categories', 'maturityRating', 'allowAnonLogging', 'contentVersion', 'imageLinks', 'language', 'previewLink', 'infoLink', 'canonicalVolumeLink'])\n",
      "Fetching detail for ISBN:9780310709626\n",
      "{'kind': 'books#volumes', 'totalItems': 798, 'items': [{'kind': 'books#volume', 'id': 'f14cMQEACAAJ', 'etag': 'lUM4e/R8Sr0', 'selfLink': 'https://www.googleapis.com/books/v1/volumes/f14cMQEACAAJ', 'volumeInfo': {'title': 'Beginners Bible', 'subtitle': 'With Music CD', 'authors': ['Karyn Henley', 'Zonderkidz'], 'publisher': 'Beginners Bible', 'publishedDate': '2001-09-27', 'industryIdentifiers': [{'type': 'ISBN_10', 'identifier': '0310702844'}, {'type': 'ISBN_13', 'identifier': '9780310702849'}], 'readingModes': {'text': False, 'image': False}, 'pageCount': 526, 'printType': 'BOOK', 'categories': ['Juvenile Nonfiction'], 'averageRating': 4.5, 'ratingsCount': 8, 'maturityRating': 'NOT_MATURE', 'allowAnonLogging': False, 'contentVersion': 'preview-1.0.0', 'imageLinks': {'smallThumbnail': 'http://books.google.com/books/content?id=f14cMQEACAAJ&printsec=frontcover&img=1&zoom=5&source=gbs_api', 'thumbnail': 'http://books.google.com/books/content?id=f14cMQEACAAJ&printsec=frontcover&img=1&zoom=1&source=gbs_api'}, 'language': 'en', 'previewLink': 'http://books.google.com.au/books?id=f14cMQEACAAJ&dq=isbn%3D9780310709626&hl=&cd=1&source=gbs_api', 'infoLink': 'http://books.google.com.au/books?id=f14cMQEACAAJ&dq=isbn%3D9780310709626&hl=&source=gbs_api', 'canonicalVolumeLink': 'https://books.google.com/books/about/Beginners_Bible.html?hl=&id=f14cMQEACAAJ'}, 'saleInfo': {'country': 'AU', 'saleability': 'NOT_FOR_SALE', 'isEbook': False}, 'accessInfo': {'country': 'AU', 'viewability': 'NO_PAGES', 'embeddable': False, 'publicDomain': False, 'textToSpeechPermission': 'ALLOWED', 'epub': {'isAvailable': False}, 'pdf': {'isAvailable': False}, 'webReaderLink': 'http://play.google.com/books/reader?id=f14cMQEACAAJ&hl=&printsec=frontcover&source=gbs_api', 'accessViewStatus': 'NONE', 'quoteSharingAllowed': False}, 'searchInfo': {'textSnippet': 'A collection of ninety-five Bible stories from both the Old and New Testaments.'}}]}\n",
      "dict_keys(['title', 'subtitle', 'authors', 'publisher', 'publishedDate', 'industryIdentifiers', 'readingModes', 'pageCount', 'printType', 'categories', 'averageRating', 'ratingsCount', 'maturityRating', 'allowAnonLogging', 'contentVersion', 'imageLinks', 'language', 'previewLink', 'infoLink', 'canonicalVolumeLink'])\n",
      "Fetching detail for ISBN:9780648237327\n",
      "{'kind': 'books#volumes', 'totalItems': 888, 'items': [{'kind': 'books#volume', 'id': 'K3i6wwEACAAJ', 'etag': 'yeQV+paybIE', 'selfLink': 'https://www.googleapis.com/books/v1/volumes/K3i6wwEACAAJ', 'volumeInfo': {'title': 'Kluwell My Home Reading Yellow Level', 'authors': ['Stan Kluzek', 'Andrew Coldwell'], 'publishedDate': '2019-07', 'description': 'Suitable for lower primary students.', 'industryIdentifiers': [{'type': 'ISBN_10', 'identifier': '064823732X'}, {'type': 'ISBN_13', 'identifier': '9780648237327'}], 'readingModes': {'text': False, 'image': False}, 'printType': 'BOOK', 'maturityRating': 'NOT_MATURE', 'allowAnonLogging': False, 'contentVersion': 'preview-1.0.0', 'panelizationSummary': {'containsEpubBubbles': False, 'containsImageBubbles': False}, 'language': 'en', 'previewLink': 'http://books.google.com.au/books?id=K3i6wwEACAAJ&dq=isbn%3D9780648237327&hl=&cd=1&source=gbs_api', 'infoLink': 'http://books.google.com.au/books?id=K3i6wwEACAAJ&dq=isbn%3D9780648237327&hl=&source=gbs_api', 'canonicalVolumeLink': 'https://books.google.com/books/about/Kluwell_My_Home_Reading_Yellow_Level.html?hl=&id=K3i6wwEACAAJ'}, 'saleInfo': {'country': 'AU', 'saleability': 'NOT_FOR_SALE', 'isEbook': False}, 'accessInfo': {'country': 'AU', 'viewability': 'NO_PAGES', 'embeddable': False, 'publicDomain': False, 'textToSpeechPermission': 'ALLOWED', 'epub': {'isAvailable': False}, 'pdf': {'isAvailable': False}, 'webReaderLink': 'http://play.google.com/books/reader?id=K3i6wwEACAAJ&hl=&printsec=frontcover&source=gbs_api', 'accessViewStatus': 'NONE', 'quoteSharingAllowed': False}, 'searchInfo': {'textSnippet': 'Suitable for lower primary students.'}}]}\n",
      "dict_keys(['title', 'authors', 'publishedDate', 'description', 'industryIdentifiers', 'readingModes', 'printType', 'maturityRating', 'allowAnonLogging', 'contentVersion', 'panelizationSummary', 'language', 'previewLink', 'infoLink', 'canonicalVolumeLink'])\n",
      "Fetching detail for ISBN:9781876424022\n",
      "{'kind': 'books#volumes', 'totalItems': 787, 'items': [{'kind': 'books#volume', 'id': 'cjnwtwEACAAJ', 'etag': 'uMTBtmgPkYQ', 'selfLink': 'https://www.googleapis.com/books/v1/volumes/cjnwtwEACAAJ', 'volumeInfo': {'title': 'THRASS', 'subtitle': \"Teaching Handwriting Reading and Spelling Skills : Phonics Prgramme. Teacher's guide, Grade 1\", 'publishedDate': '2011', 'industryIdentifiers': [{'type': 'ISBN_10', 'identifier': '192056411X'}, {'type': 'ISBN_13', 'identifier': '9781920564117'}], 'readingModes': {'text': False, 'image': False}, 'pageCount': 184, 'printType': 'BOOK', 'categories': ['Phonetics'], 'maturityRating': 'NOT_MATURE', 'allowAnonLogging': False, 'contentVersion': 'preview-1.0.0', 'panelizationSummary': {'containsEpubBubbles': False, 'containsImageBubbles': False}, 'language': 'en', 'previewLink': 'http://books.google.com.au/books?id=cjnwtwEACAAJ&dq=isbn%3D9781876424022&hl=&cd=1&source=gbs_api', 'infoLink': 'http://books.google.com.au/books?id=cjnwtwEACAAJ&dq=isbn%3D9781876424022&hl=&source=gbs_api', 'canonicalVolumeLink': 'https://books.google.com/books/about/THRASS.html?hl=&id=cjnwtwEACAAJ'}, 'saleInfo': {'country': 'AU', 'saleability': 'NOT_FOR_SALE', 'isEbook': False}, 'accessInfo': {'country': 'AU', 'viewability': 'NO_PAGES', 'embeddable': False, 'publicDomain': False, 'textToSpeechPermission': 'ALLOWED', 'epub': {'isAvailable': False}, 'pdf': {'isAvailable': False}, 'webReaderLink': 'http://play.google.com/books/reader?id=cjnwtwEACAAJ&hl=&printsec=frontcover&source=gbs_api', 'accessViewStatus': 'NONE', 'quoteSharingAllowed': False}}]}\n",
      "dict_keys(['title', 'subtitle', 'publishedDate', 'industryIdentifiers', 'readingModes', 'pageCount', 'printType', 'categories', 'maturityRating', 'allowAnonLogging', 'contentVersion', 'panelizationSummary', 'language', 'previewLink', 'infoLink', 'canonicalVolumeLink'])\n",
      "Fetching detail for ISBN:9781740202954\n",
      "{'kind': 'books#volumes', 'totalItems': 534, 'items': [{'kind': 'books#volume', 'id': '-kiaVICKZycC', 'etag': 'h8UDFj/5XHI', 'selfLink': 'https://www.googleapis.com/books/v1/volumes/-kiaVICKZycC', 'volumeInfo': {'title': 'Targeting Handwriting', 'subtitle': 'NSW Foundation Style', 'authors': ['Jane Pinsker'], 'publisher': 'Pascal Press', 'publishedDate': '2001', 'description': 'The Targeting Handwriting NSW Year 4 Student Book focuses on consolid ation of joining skills, plus: teaching of trickier joins l ike joining to s, horizontal joins to e, joined double f and joined ft students begin to assess their own letter size and spacing, spac ing between words, and slope Handwriting is one of the mos t crucial skills students will develop in primary school. Targeting Hand writing covers the handwriting curriculum in a clear and structured way, with content directly linked to NSW syllabus outcomes. Writing is a vit al, compelling form of communication. Children need to write every day, for a variety of purposes and for a variety of audiences. To be competen t writers, their handwriting needs to be fluent and legible. The teachin g of handwriting is an essential part of the writing curriculum.', 'industryIdentifiers': [{'type': 'ISBN_10', 'identifier': '1877085391'}, {'type': 'ISBN_13', 'identifier': '9781877085390'}], 'readingModes': {'text': False, 'image': True}, 'pageCount': 64, 'printType': 'BOOK', 'categories': ['Penmanship'], 'maturityRating': 'NOT_MATURE', 'allowAnonLogging': False, 'contentVersion': '2.2.3.0.preview.1', 'panelizationSummary': {'containsEpubBubbles': False, 'containsImageBubbles': False}, 'imageLinks': {'smallThumbnail': 'http://books.google.com/books/content?id=-kiaVICKZycC&printsec=frontcover&img=1&zoom=5&edge=curl&source=gbs_api', 'thumbnail': 'http://books.google.com/books/content?id=-kiaVICKZycC&printsec=frontcover&img=1&zoom=1&edge=curl&source=gbs_api'}, 'language': 'en', 'previewLink': 'http://books.google.com.au/books?id=-kiaVICKZycC&printsec=frontcover&dq=isbn%3D9781740202954&hl=&cd=1&source=gbs_api', 'infoLink': 'http://books.google.com.au/books?id=-kiaVICKZycC&dq=isbn%3D9781740202954&hl=&source=gbs_api', 'canonicalVolumeLink': 'https://books.google.com/books/about/Targeting_Handwriting.html?hl=&id=-kiaVICKZycC'}, 'saleInfo': {'country': 'AU', 'saleability': 'NOT_FOR_SALE', 'isEbook': False}, 'accessInfo': {'country': 'AU', 'viewability': 'PARTIAL', 'embeddable': True, 'publicDomain': False, 'textToSpeechPermission': 'ALLOWED', 'epub': {'isAvailable': False}, 'pdf': {'isAvailable': False}, 'webReaderLink': 'http://play.google.com/books/reader?id=-kiaVICKZycC&hl=&printsec=frontcover&source=gbs_api', 'accessViewStatus': 'SAMPLE', 'quoteSharingAllowed': False}, 'searchInfo': {'textSnippet': 'The Targeting Handwriting NSW Year 4 Student Book focuses on consolid ation of joining skills, plus: teaching of trickier joins l ike joining to s, horizontal joins to e, joined double f and joined ft students begin to assess their own ...'}}]}\n",
      "dict_keys(['title', 'subtitle', 'authors', 'publisher', 'publishedDate', 'description', 'industryIdentifiers', 'readingModes', 'pageCount', 'printType', 'categories', 'maturityRating', 'allowAnonLogging', 'contentVersion', 'panelizationSummary', 'imageLinks', 'language', 'previewLink', 'infoLink', 'canonicalVolumeLink'])\n",
      "Fetching detail for ISBN:9781925487350\n",
      "{'kind': 'books#volumes', 'totalItems': 20, 'items': [{'kind': 'books#volume', 'id': '3cNonQAACAAJ', 'etag': 'Xfr2D/563I4', 'selfLink': 'https://www.googleapis.com/books/v1/volumes/3cNonQAACAAJ', 'volumeInfo': {'title': 'Alphabet Sounds and Writing Scrapbook', 'publishedDate': '2017-06-01', 'description': 'Beginners alphabet and writing book', 'industryIdentifiers': [{'type': 'ISBN_10', 'identifier': '1925487288'}, {'type': 'ISBN_13', 'identifier': '9781925487282'}], 'readingModes': {'text': False, 'image': False}, 'pageCount': 56, 'printType': 'BOOK', 'maturityRating': 'NOT_MATURE', 'allowAnonLogging': False, 'contentVersion': 'preview-1.0.0', 'panelizationSummary': {'containsEpubBubbles': False, 'containsImageBubbles': False}, 'language': 'en', 'previewLink': 'http://books.google.com.au/books?id=3cNonQAACAAJ&dq=isbn%3D9781925487350&hl=&cd=1&source=gbs_api', 'infoLink': 'http://books.google.com.au/books?id=3cNonQAACAAJ&dq=isbn%3D9781925487350&hl=&source=gbs_api', 'canonicalVolumeLink': 'https://books.google.com/books/about/Alphabet_Sounds_and_Writing_Scrapbook.html?hl=&id=3cNonQAACAAJ'}, 'saleInfo': {'country': 'AU', 'saleability': 'NOT_FOR_SALE', 'isEbook': False}, 'accessInfo': {'country': 'AU', 'viewability': 'NO_PAGES', 'embeddable': False, 'publicDomain': False, 'textToSpeechPermission': 'ALLOWED', 'epub': {'isAvailable': False}, 'pdf': {'isAvailable': False}, 'webReaderLink': 'http://play.google.com/books/reader?id=3cNonQAACAAJ&hl=&printsec=frontcover&source=gbs_api', 'accessViewStatus': 'NONE', 'quoteSharingAllowed': False}, 'searchInfo': {'textSnippet': 'Beginners alphabet and writing book'}}]}\n",
      "dict_keys(['title', 'publishedDate', 'description', 'industryIdentifiers', 'readingModes', 'pageCount', 'printType', 'maturityRating', 'allowAnonLogging', 'contentVersion', 'panelizationSummary', 'language', 'previewLink', 'infoLink', 'canonicalVolumeLink'])\n",
      "[{'isbn': 9781741250879, 'title': 'Victorian Targeting Handwriting', 'published': '2004', 'description': \"Targeting Handwriting Victoria Year 6 Student Book focuses on develop ing students' own styles, while emphasising fluency and legibility. The book includes: 'Mature' real-world applications, e. g. developing a signature and tips for note taking teaching pag es with two sets of copying lines, for reinforcement and extra practice a section on calligraphy The Targeting Handwritin g Years 3-6 Student Books have been designed to make learning cursive ha ndwriting as easy as possible for students. New skills are introduced se quentially, so that students build on skills one by one and aren't calle d on to use skills that haven't been introduced yet. Wherever pos sible, students copy words underneath models, so that left-handers aren' t disadvantaged, and practice of numerals and punctuation is integrated into the writing activities. The books also encourage and support studen t self-assessment.\"}, {'isbn': 9780648237327, 'title': 'Kluwell My Home Reading Yellow Level', 'published': '2019-07', 'description': 'Suitable for lower primary students.'}, {'isbn': 9781742990682, 'title': 'Wilfrid Gordon McDonald Partridge', 'published': '1987', 'description': 'The elderly Miss Nancy is helped by Wilfrid to replace her lost memories with new ones.'}, {'isbn': 9781741351750, 'title': 'IMaths', 'published': '2011-01-01', 'description': '\" iMaths is an investigative-based numeracy program thath comprehensively addresses both the content and proficency strands of the Australian curriculum\". -- Back cover.'}, {'isbn': 9781742152196, 'title': 'Targeting Maths', 'published': '2013', 'description': ''}, {'isbn': 9780310709626, 'title': 'Beginners Bible', 'published': '2001-09-27', 'description': ''}, {'isbn': 9780648237327, 'title': 'Kluwell My Home Reading Yellow Level', 'published': '2019-07', 'description': 'Suitable for lower primary students.'}, {'isbn': 9781876424022, 'title': 'THRASS', 'published': '2011', 'description': ''}, {'isbn': 9781740202954, 'title': 'Targeting Handwriting', 'published': '2001', 'description': 'The Targeting Handwriting NSW Year 4 Student Book focuses on consolid ation of joining skills, plus: teaching of trickier joins l ike joining to s, horizontal joins to e, joined double f and joined ft students begin to assess their own letter size and spacing, spac ing between words, and slope Handwriting is one of the mos t crucial skills students will develop in primary school. Targeting Hand writing covers the handwriting curriculum in a clear and structured way, with content directly linked to NSW syllabus outcomes. Writing is a vit al, compelling form of communication. Children need to write every day, for a variety of purposes and for a variety of audiences. To be competen t writers, their handwriting needs to be fluent and legible. The teachin g of handwriting is an essential part of the writing curriculum.'}, {'isbn': 9781925487350, 'title': 'Alphabet Sounds and Writing Scrapbook', 'published': '2017-06-01', 'description': 'Beginners alphabet and writing book'}]\n"
     ]
    }
   ],
   "source": [
    "endpoint = \"https://www.googleapis.com/books/v1/volumes\"\n",
    "\n",
    "def get_info_from_google_book(isbn):\n",
    "  params = {\"q\":\"isbn=\"+str(isbn), \"maxResults\": 1}\n",
    "  response = requests.get(endpoint, params=params).json()\n",
    "  print(\"Fetching detail for ISBN:\"+str(isbn))\n",
    "\n",
    "\n",
    "  if (response['totalItems']>0):\n",
    "    for book in response[\"items\"]:\n",
    "        volume = book[\"volumeInfo\"]\n",
    "        title = volume[\"title\"]\n",
    "        published = volume[\"publishedDate\"]\n",
    "        #print(published)\n",
    "        if \"description\" in volume.keys():\n",
    "            description = volume[\"description\"]\n",
    "        else:\n",
    "            description = \"\"\n",
    "        #print(f\"{title} ({published}) | {description}\")\n",
    "    return {'isbn':isbn, 'title':title, 'published':published, 'description':description}\n",
    "  else:\n",
    "    return {'isbn':isbn, 'title':'', 'published':'', 'description':''}\n",
    "\n",
    "info = []\n",
    "for isbn in test_isbn:\n",
    "  info.append(get_info_from_google_book(isbn))\n",
    "print(info)"
   ],
   "metadata": {
    "collapsed": false,
    "pycharm": {
     "name": "#%%\n"
    }
   }
  },
  {
   "cell_type": "code",
   "execution_count": 26,
   "outputs": [
    {
     "name": "stdout",
     "output_type": "stream",
     "text": [
      "            isbn                                  title   published  \\\n",
      "0  9781741250879        Victorian Targeting Handwriting        2004   \n",
      "1  9780648237327   Kluwell My Home Reading Yellow Level     2019-07   \n",
      "2  9781742990682      Wilfrid Gordon McDonald Partridge        1987   \n",
      "3  9781741351750                                 IMaths  2011-01-01   \n",
      "4  9781742152196                        Targeting Maths        2013   \n",
      "5  9780310709626                        Beginners Bible  2001-09-27   \n",
      "6  9780648237327   Kluwell My Home Reading Yellow Level     2019-07   \n",
      "7  9781876424022                                 THRASS        2011   \n",
      "8  9781740202954                  Targeting Handwriting        2001   \n",
      "9  9781925487350  Alphabet Sounds and Writing Scrapbook  2017-06-01   \n",
      "\n",
      "                                         description  \n",
      "0  Targeting Handwriting Victoria Year 6 Student ...  \n",
      "1               Suitable for lower primary students.  \n",
      "2  The elderly Miss Nancy is helped by Wilfrid to...  \n",
      "3  \" iMaths is an investigative-based numeracy pr...  \n",
      "4                                                     \n",
      "5                                                     \n",
      "6               Suitable for lower primary students.  \n",
      "7                                                     \n",
      "8  The Targeting Handwriting NSW Year 4 Student B...  \n",
      "9                Beginners alphabet and writing book  \n"
     ]
    }
   ],
   "source": [
    "q = pd.DataFrame(info)\n",
    "print(q)"
   ],
   "metadata": {
    "collapsed": false,
    "pycharm": {
     "name": "#%%\n"
    }
   }
  },
  {
   "cell_type": "code",
   "execution_count": 80,
   "outputs": [
    {
     "name": "stdout",
     "output_type": "stream",
     "text": [
      "{'book': {'synopsys': 'Suitable For Lower Primary Students.', 'language': 'en', 'image': 'https://images.isbndb.com/covers/73/27/9780648237327.jpg', 'title_long': 'Kluwell My Home Reading Yellow Level', 'authors': ['Stan Kluzek', 'Andrew Coldwell'], 'title': 'Kluwell My Home Reading Yellow Level', 'isbn13': '9780648237327', 'msrp': '0.00', 'isbn': '064823732X'}}\n"
     ]
    },
    {
     "data": {
      "text/plain": "{'synopsys': 'Suitable For Lower Primary Students.',\n 'language': 'en',\n 'image': 'https://images.isbndb.com/covers/73/27/9780648237327.jpg',\n 'title_long': 'Kluwell My Home Reading Yellow Level',\n 'authors': ['Stan Kluzek', 'Andrew Coldwell'],\n 'title': 'Kluwell My Home Reading Yellow Level',\n 'isbn13': '9780648237327',\n 'msrp': '0.00',\n 'isbn': '064823732X'}"
     },
     "execution_count": 80,
     "metadata": {},
     "output_type": "execute_result"
    }
   ],
   "source": [
    "isb = 9780648237327\n",
    "h = {'Authorization': '47013_864bb406f0d25046928b98a417ed8b6c'}\n",
    "parm = str(isb)\n",
    "resp = requests.get(\"https://api2.isbndb.com/book/\"+parm, headers=h)\n",
    "print(resp.json())\n",
    "resp_data = resp.json()\n",
    "extract = dict(resp_data[\"book\"])\n",
    "extract"
   ],
   "metadata": {
    "collapsed": false,
    "pycharm": {
     "name": "#%%\n"
    }
   }
  },
  {
   "cell_type": "code",
   "execution_count": 69,
   "outputs": [
    {
     "name": "stdout",
     "output_type": "stream",
     "text": [
      "{'publishers': ['Puffin'], 'number_of_pages': 96, 'isbn_10': ['0140328726'], 'covers': [8739161], 'key': '/books/OL7353617M', 'authors': [{'key': '/authors/OL34184A'}], 'ocaid': 'fantasticmrfoxpu00roal', 'contributions': ['Tony Ross (Illustrator)'], 'languages': [{'key': '/languages/eng'}], 'classifications': {}, 'source_records': ['ia:fantasticmrfox00dahl_834', 'marc:marc_openlibraries_sanfranciscopubliclibrary/sfpl_chq_2018_12_24_run02.mrc:85081404:4525'], 'title': 'Fantastic Mr. Fox', 'identifiers': {'goodreads': ['1507552'], 'librarything': ['6446']}, 'isbn_13': ['9780140328721'], 'local_id': ['urn:sfpl:31223064402481', 'urn:sfpl:31223117624784', 'urn:sfpl:31223113969183', 'urn:sfpl:31223117624800', 'urn:sfpl:31223113969225', 'urn:sfpl:31223106484539', 'urn:sfpl:31223117624792', 'urn:sfpl:31223117624818', 'urn:sfpl:31223117624768', 'urn:sfpl:31223117624743', 'urn:sfpl:31223113969209', 'urn:sfpl:31223117624750', 'urn:sfpl:31223117624727', 'urn:sfpl:31223117624776', 'urn:sfpl:31223117624719', 'urn:sfpl:31223117624735', 'urn:sfpl:31223113969241'], 'publish_date': 'October 1, 1988', 'works': [{'key': '/works/OL45883W'}], 'type': {'key': '/type/edition'}, 'first_sentence': {'type': '/type/text', 'value': 'And these two very old people are the father and mother of Mrs. Bucket.'}, 'latest_revision': 14, 'revision': 14, 'created': {'type': '/type/datetime', 'value': '2008-04-29T13:35:46.876380'}, 'last_modified': {'type': '/type/datetime', 'value': '2021-06-18T22:46:46.648233'}}\n"
     ]
    }
   ],
   "source": [
    "p2 = '0451526538'\n",
    "resp2 = requests.get(\"https://openlibrary.org/isbn/9780140328721.json\")\n",
    "print(resp2.json())"
   ],
   "metadata": {
    "collapsed": false,
    "pycharm": {
     "name": "#%%\n"
    }
   }
  },
  {
   "cell_type": "code",
   "execution_count": 79,
   "outputs": [
    {
     "name": "stdout",
     "output_type": "stream",
     "text": [
      "<Response [403]>\n"
     ]
    }
   ],
   "source": [
    "url = 'https://api.trove.nla.gov.au/v2/result'\n",
    "key = 'j1i27ki33b4iuu9v'\n",
    "q = 9780648237327\n",
    "\n",
    "params = {\n",
    "    'encoding': 'json',\n",
    "    'key': 'j1i27ki33b4iuu9v',\n",
    "    'q': q,\n",
    "    'zone': 'books'\n",
    "}\n",
    "\n",
    "resp3 = requests.get(url, params=params)\n",
    "print(resp3)"
   ],
   "metadata": {
    "collapsed": false,
    "pycharm": {
     "name": "#%%\n"
    }
   }
  }
 ],
 "metadata": {
  "kernelspec": {
   "name": "pycharm-2136fb3e",
   "language": "python",
   "display_name": "PyCharm (python)"
  },
  "language_info": {
   "codemirror_mode": {
    "name": "ipython",
    "version": 2
   },
   "file_extension": ".py",
   "mimetype": "text/x-python",
   "name": "python",
   "nbconvert_exporter": "python",
   "pygments_lexer": "ipython2",
   "version": "2.7.6"
  }
 },
 "nbformat": 4,
 "nbformat_minor": 0
}